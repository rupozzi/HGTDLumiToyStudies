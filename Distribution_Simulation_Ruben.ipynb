{
 "cells": [
  {
   "cell_type": "code",
   "execution_count": 107,
   "id": "latin-anderson",
   "metadata": {},
   "outputs": [],
   "source": [
    "import ROOT\n",
    "from ROOT import TCanvas, TGraph, gROOT\n",
    "import numpy as np\n",
    "import time\n",
    "import math\n",
    "import matplotlib.pyplot as plt\n",
    "import time\n",
    "from array import array"
   ]
  },
  {
   "cell_type": "code",
   "execution_count": 4,
   "id": "consolidated-steering",
   "metadata": {},
   "outputs": [],
   "source": [
    "nr_of_channels = int(3.6 * 1e6)\n",
    "channels_per_module = int(15*30)\n",
    "total_modules = int(nr_of_channels/channels_per_module)\n",
    "global_counter = 0"
   ]
  },
  {
   "cell_type": "code",
   "execution_count": 41,
   "id": "desperate-wages",
   "metadata": {
    "scrolled": true
   },
   "outputs": [],
   "source": [
    "class noise_generator:\n",
    "    def __init__(self, threshold, channel_count): \n",
    "        global global_counter\n",
    "        low = 0\n",
    "        high = 1000\n",
    "        noise = ROOT.TF1(\"noise_gauss\", \"TMath::Gaus(x, 0, 5)\", low, high)\n",
    "        \n",
    "        #integrate normal dist. to get exact prob. above threshold and multiply with channel nr to get avg.\n",
    "        self._mean = channel_count * noise.Integral(threshold, high)/noise.Integral(low, high) \n",
    "        #self._prng = ROOT.TRandom3(time.time_ns())\n",
    "        global_counter += 1\n",
    "        self._prng = ROOT.TRandom3(int(time.time()) + global_counter)\n",
    "\n",
    "    def generate(self):\n",
    "        \"\"\"The first return value is the exact number of noise activated channels in the small window and\n",
    "            the second return value is the estimated number of noise activated channels in the small window. (estimated from large window)\n",
    "            (both results are in small window, both results are noise above threshold)\n",
    "            noise_exact, noise_est = noise.generate()\"\"\"\n",
    "        # Large time window 25ns\n",
    "        # Small time window 3.125ns\n",
    "        prng = self._prng\n",
    "        total = prng.Poisson(self._mean) # number of noise above threshold in large window in this run.\n",
    "        \n",
    "        narrow_exact = 0\n",
    "        big_window = 4*3.125\n",
    "        \n",
    "        #narrow_exact = (np.random.rand(total) < 0.125).sum()  # 3.125/25 = 0.125\n",
    "        #noise_per_time = (total - narrow_exact)/(25 - 3.125)\n",
    "        \n",
    "        narrow_exact = (np.random.rand(total) < 3.125/big_window).sum() # ex. 3.125/(3.125*4) big window of 4 times 3.125 \n",
    "        noise_per_time = (total - narrow_exact)/(big_window - 3.125)\n",
    "        \n",
    "        estimate = 3.125 * noise_per_time\n",
    "        return narrow_exact, estimate\n",
    "\n",
    "\n"
   ]
  },
  {
   "cell_type": "code",
   "execution_count": 42,
   "id": "fatal-raleigh",
   "metadata": {},
   "outputs": [],
   "source": [
    "class signal_generator:\n",
    "    def __init__(self, threshold, real_expected_voltage, guess_expected_voltage): # expected_voltage = expected peak voltage  (mu)\n",
    "        global global_counter\n",
    "        low = -100\n",
    "        high = 1000\n",
    "        self._threshold = threshold\n",
    "        self._expected_voltage = real_expected_voltage\n",
    "        signal_func = ROOT.TF1(\"sth\", \"TMath::Landau(x, %f, %f)\" % (guess_expected_voltage, guess_expected_voltage/4), low, high)\n",
    "        self.fraction_above = signal_func.Integral(threshold, high)/signal_func.Integral(low, high) #fraction of the function that is above threshold\n",
    "        #self._prng = ROOT.TRandom3(time.time_ns())\n",
    "        global_counter += 1\n",
    "        self._prng = ROOT.TRandom3(int(time.time()) + global_counter)\n",
    "    \n",
    "    def generate(self, expected_count):\n",
    "        \"\"\"The paramater is the expected number of particles that reach the detector.\n",
    "            The first return value is the number of particles that reached the detector and\n",
    "            the second return value is the number of activated channels.\n",
    "            signal_real_total, signal_above = signal.generate(30)\"\"\"\n",
    "        prng = self._prng\n",
    "        expected_voltage = self._expected_voltage\n",
    "        threshold = self._threshold\n",
    "        \n",
    "        signal_count = prng.Poisson(expected_count)\n",
    "        above_threshold_count = 0\n",
    "        sigma = expected_voltage/4\n",
    "        for i in range(signal_count):\n",
    "            if prng.Landau(expected_voltage, sigma) > threshold: # 1/4 is just the refernce 25/100\n",
    "                above_threshold_count += 1\n",
    "        return signal_count, above_threshold_count\n",
    "    "
   ]
  },
  {
   "cell_type": "code",
   "execution_count": 145,
   "id": "colored-photograph",
   "metadata": {},
   "outputs": [],
   "source": [
    "\"\"\"Parameters for the simulation\"\"\"\n",
    "\n",
    "peak_mpv_voltage = 100 #mV, mpv: most probable value\n",
    "guess_mpv_voltage = 100 #mV\n",
    "\n",
    "#exp number of particles on detector proportional to mu\n",
    "bunch_crossings = 1000\n",
    "\n",
    "ratio_of_channels_to_sample = 1\n",
    "mu = 200\n",
    "\n",
    "\"\"\"exp number of particles on detector proportional to mu \"\"\"\n",
    "expected_count = (15*1e3/200)*mu #expected number of particles reaching the HGTD for mu=200, no more than 20k\n"
   ]
  },
  {
   "cell_type": "code",
   "execution_count": 149,
   "id": "vocational-impression",
   "metadata": {},
   "outputs": [
    {
     "name": "stdout",
     "output_type": "stream",
     "text": [
      "Threshold: 5\n",
      "Threshold: 6\n",
      "Threshold: 7\n",
      "Threshold: 8\n",
      "Threshold: 9\n",
      "Threshold: 10\n",
      "Threshold: 11\n",
      "Threshold: 12\n",
      "Threshold: 13\n",
      "Threshold: 14\n",
      "Threshold: 15\n",
      "Threshold: 16\n",
      "Threshold: 17\n",
      "Threshold: 18\n",
      "Threshold: 19\n",
      "Threshold: 20\n",
      "Threshold: 21\n",
      "Threshold: 22\n",
      "Threshold: 23\n",
      "Threshold: 24\n",
      "Threshold: 25\n",
      "Threshold: 26\n",
      "Threshold: 27\n",
      "Threshold: 28\n",
      "Threshold: 29\n",
      "Threshold: 30\n",
      "Threshold: 31\n",
      "Threshold: 32\n",
      "Threshold: 33\n",
      "Threshold: 34\n",
      "Threshold: 35\n",
      "Threshold: 36\n",
      "Threshold: 37\n",
      "Threshold: 38\n",
      "Threshold: 39\n",
      "Threshold: 40\n",
      "Threshold: 41\n",
      "Threshold: 42\n",
      "Threshold: 43\n",
      "Threshold: 44\n",
      "Threshold: 45\n",
      "Threshold: 46\n",
      "Threshold: 47\n",
      "Threshold: 48\n",
      "Threshold: 49\n",
      "Threshold: 50\n",
      "Threshold: 51\n",
      "Threshold: 52\n",
      "Threshold: 53\n",
      "Threshold: 54\n",
      "Threshold: 55\n",
      "Threshold: 56\n",
      "Threshold: 57\n",
      "Threshold: 58\n",
      "Threshold: 59\n",
      "Threshold: 60\n",
      "Threshold: 61\n",
      "Threshold: 62\n",
      "Threshold: 63\n",
      "Threshold: 64\n",
      "Threshold: 65\n",
      "Threshold: 66\n",
      "Threshold: 67\n",
      "Threshold: 68\n",
      "Threshold: 69\n",
      "Threshold: 70\n",
      "Threshold: 71\n",
      "Threshold: 72\n",
      "Threshold: 73\n",
      "Threshold: 74\n",
      "Threshold: 75\n",
      "Threshold: 76\n",
      "Threshold: 77\n",
      "Threshold: 78\n",
      "Threshold: 79\n",
      "Threshold: 80\n",
      "Threshold: 81\n",
      "Threshold: 82\n",
      "Threshold: 83\n",
      "Threshold: 84\n",
      "Threshold: 85\n",
      "Threshold: 86\n",
      "Threshold: 87\n",
      "Threshold: 88\n",
      "Threshold: 89\n",
      "Threshold: 90\n",
      "\n",
      "Computation done!\n",
      "CPU time: 348.3916745185852 seconds\n"
     ]
    }
   ],
   "source": [
    "channel_count = nr_of_channels*ratio_of_channels_to_sample\n",
    "min_threshold = 5 #mV\n",
    "max_threshold = 90 #mV\n",
    "threshold_array = np.linspace(min_threshold,max_threshold, 86)\n",
    "histogram = {}\n",
    "start_time = time.time()\n",
    "\n",
    "for threshold in (threshold_array):\n",
    "    #generate the noise\n",
    "    noise_gen = noise_generator(threshold, channel_count)\n",
    "    #generate the signal\n",
    "    signal_gen = signal_generator(threshold, peak_mpv_voltage, guess_mpv_voltage)\n",
    "\n",
    "    result_true_signal_count = np.zeros(bunch_crossings)\n",
    "    result_estimated_signal_count = np.zeros(bunch_crossings)\n",
    "    error_estimation = 0\n",
    "    signal_fraction_above = signal_gen.fraction_above\n",
    "    print(\"Threshold: %d\" %threshold)\n",
    "    histogram[str(threshold)+\"_mV\"] = ROOT.TH1F('Thresh: %f, BC=%d, mu=%f'%(threshold,BC+1, mu),'Histogram %dmV'%(threshold),90, -4.5, 4.5)\n",
    "\n",
    "    for BC in range(bunch_crossings):\n",
    "        # both results are in small window, both are noise above threshold\n",
    "        noise_exact, noise_est = noise_gen.generate()\n",
    "\n",
    "        # The paramater is the expected number of particles that reach the detector.\n",
    "        # The first return value is the number of particles that reached the detector and \n",
    "        # the second return value is the number of activated channels.\n",
    "        total_actual_signal, signal_above = signal_gen.generate(expected_count)\n",
    "\n",
    "        # from the total activations, estimate how much was produced by actual signal\n",
    "        total_activations = signal_above + noise_exact  # total activations in small window (i.e. above threshold)\n",
    "        #print(\"\\nBunch Crossing %d:\" %(BC+1))\n",
    "        #print(\"Signal- and noise-activated channels: %d\" %(total_activations))\n",
    "        #print (\"Noise-activated channels: %d\" %(noise_exact))\n",
    "        #total real activations minus estimation of signal, then divide with the prob. mass for Landau to be above threshold\n",
    "        total_signal_est = (total_activations - noise_est)/signal_fraction_above \n",
    "        \n",
    "        result_true_signal_count[BC] = total_actual_signal #exact count in the small window\n",
    "        result_estimated_signal_count[BC] = total_signal_est #estimated count \n",
    "        \n",
    "        #print (deviation)\n",
    "        histogram[str(threshold)+\"_mV\"].Fill(total_signal_est - total_actual_signal)\n",
    "\n",
    "print(\"\\nComputation done!\")\n",
    "print(\"CPU time: %s seconds\" % (time.time() - start_time))\n"
   ]
  },
  {
   "cell_type": "code",
   "execution_count": 150,
   "id": "hollow-income",
   "metadata": {},
   "outputs": [
    {
     "name": "stderr",
     "output_type": "stream",
     "text": [
      "Warning in <TCanvas::Constructor>: Deleting canvas with same name: Deviation over Threshold\n",
      "Info in <TCanvas::Print>: pdf file Deviation_Over_Threshold.pdf has been created\n"
     ]
    },
    {
     "data": {
      "image/png": "[encoded data removed]",
      "text/plain": [
       "<IPython.core.display.Image object>"
      ]
     },
     "metadata": {},
     "output_type": "display_data"
    }
   ],
   "source": [
    "mean_values = []\n",
    "standard_deviations = []\n",
    "for threshold in (threshold_array):\n",
    "    mean_values.append(histogram[str(threshold)+\"_mV\"].GetMean())\n",
    "    standard_deviations.append(histogram[str(threshold)+\"_mV\"].GetStdDev())\n",
    "  \n",
    "threshold_error = []\n",
    "for i in range (len(threshold_array)):\n",
    "    threshold_error.append(0)\n",
    "\n",
    "#create x,y values and corresponding errors\n",
    "\n",
    "n = len(threshold_array);\n",
    "x  = array( 'f', threshold_array )\n",
    "ex = array( 'f', threshold_error)\n",
    "y  = array( 'f', mean_values)\n",
    "ey = array( 'f', standard_deviations) \n",
    "\n",
    "deviation_Histo = ROOT.TGraphErrors( n, x, y, ex, ey )\n",
    "\n",
    "\n",
    "#create Canvas\n",
    "Canvas = ROOT.TCanvas(\"Deviation over Threshold\", \"Difference in counts\", 800, 600)\n",
    "#Set different plot settings \n",
    "deviation_Histo.SetMarkerStyle(20)\n",
    "deviation_Histo.SetLineColor(ROOT.kAzure-9)\n",
    "deviation_Histo.SetFillColor(ROOT.kAzure-14)\n",
    "deviation_Histo.Draw()\n",
    "\n",
    "#Draw and export final Histo\n",
    "Canvas.Draw()\n",
    "Canvas.SaveAs(\"Deviation_Over_Threshold.pdf\")"
   ]
  },
  {
   "cell_type": "code",
   "execution_count": 151,
   "id": "emerging-surgery",
   "metadata": {},
   "outputs": [
    {
     "name": "stderr",
     "output_type": "stream",
     "text": [
      "Warning in <TCanvas::Constructor>: Deleting canvas with same name: Deviation over Threshold\n",
      "Info in <TCanvas::Print>: pdf file Deviation_Over_Threshold.pdf has been created\n"
     ]
    },
    {
     "data": {
      "image/png": "[encoded data removed]",
      "text/plain": [
       "<IPython.core.display.Image object>"
      ]
     },
     "metadata": {},
     "output_type": "display_data"
    }
   ],
   "source": [
    "mean_values = []\n",
    "standard_deviations = []\n",
    "for threshold in (threshold_array):\n",
    "    mean = histogram[str(threshold)+\"_mV\"].GetMean()\n",
    "    STD = histogram[str(threshold)+\"_mV\"].GetStdDev()\n",
    "    mean_values.append(abs(mean))\n",
    "    standard_deviations.append(histogram[str(threshold)+\"_mV\"].GetStdDev())\n",
    "  \n",
    "threshold_error = []\n",
    "for i in range (len(threshold_array)):\n",
    "    threshold_error.append(0)\n",
    "\n",
    "#create x,y values and corresponding errors\n",
    "\n",
    "n = len(threshold_array);\n",
    "x  = array( 'f', threshold_array )\n",
    "ex = array( 'f', threshold_error)\n",
    "y  = array( 'f', mean_values)\n",
    "ey = array( 'f', standard_deviations) \n",
    "\n",
    "deviation_Histo = ROOT.TGraphErrors( n, x, y, ex, ey )\n",
    "\n",
    "\n",
    "#create Canvas\n",
    "c = ROOT.TCanvas(\"Deviation over Threshold\", \"Difference in counts\", 800, 600)\n",
    "#Set different plot settings \n",
    "deviation_Histo.SetMarkerStyle(20)\n",
    "deviation_Histo.SetLineColor(ROOT.kAzure-9)\n",
    "deviation_Histo.SetFillColor(ROOT.kAzure-14)\n",
    "deviation_Histo.Draw()\n",
    "\n",
    "#Draw and export final Histo\n",
    "c.Draw()\n",
    "c.SaveAs(\"Deviation_Over_Threshold.pdf\")"
   ]
  },
  {
   "cell_type": "code",
   "execution_count": 153,
   "id": "inner-token",
   "metadata": {},
   "outputs": [
    {
     "name": "stderr",
     "output_type": "stream",
     "text": [
      "Warning in <TCanvas::Constructor>: Deleting canvas with same name: c1\n"
     ]
    },
    {
     "data": {
      "image/png": "[encoded data removed]",
      "text/plain": [
       "<IPython.core.display.Image object>"
      ]
     },
     "metadata": {},
     "output_type": "display_data"
    }
   ],
   "source": [
    "threshold = 25.0\n",
    "c1 = TCanvas('c1','Example',900,600)\n",
    "histogram[str(threshold)+\"_mV\"].SetMarkerStyle(20)\n",
    "histogram[str(threshold)+\"_mV\"].SetLineColor(ROOT.kAzure-9)\n",
    "histogram[str(threshold)+\"_mV\"].SetFillColor(ROOT.kAzure-14)\n",
    "histogram[str(threshold)+\"_mV\"].Draw()\n",
    "c1.Draw()"
   ]
  },
  {
   "cell_type": "code",
   "execution_count": null,
   "id": "selective-castle",
   "metadata": {},
   "outputs": [],
   "source": []
  }
 ],
 "metadata": {
  "kernelspec": {
   "display_name": "Python 3",
   "language": "python",
   "name": "python3"
  },
  "language_info": {
   "codemirror_mode": {
    "name": "ipython",
    "version": 3
   },
   "file_extension": ".py",
   "mimetype": "text/x-python",
   "name": "python",
   "nbconvert_exporter": "python",
   "pygments_lexer": "ipython3",
   "version": "3.8.5"
  }
 },
 "nbformat": 4,
 "nbformat_minor": 5
}
